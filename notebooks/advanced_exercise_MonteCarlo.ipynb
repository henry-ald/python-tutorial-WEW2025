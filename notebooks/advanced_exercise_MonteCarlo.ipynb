{
  "cells": [
    {
      "cell_type": "markdown",
      "metadata": {
        "id": "view-in-github",
        "colab_type": "text"
      },
      "source": [
        "<a href=\"https://colab.research.google.com/github/henry-ald/python-tutorial-WEW2025/blob/main/notebooks/advanced_exercise_MonteCarlo.ipynb\" target=\"_parent\"><img src=\"https://colab.research.google.com/assets/colab-badge.svg\" alt=\"Open In Colab\"/></a>"
      ]
    },
    {
      "cell_type": "markdown",
      "id": "e621b15e",
      "metadata": {
        "id": "e621b15e"
      },
      "source": [
        "## 🥧 Monte Carlo Pi Estimator"
      ]
    },
    {
      "cell_type": "markdown",
      "id": "cfad7761",
      "metadata": {
        "id": "cfad7761"
      },
      "source": [
        "Use a simple Monte Carlo method to estimate the value of $\\pi$.\n",
        "\n",
        "🧠 Idea:\n",
        "\n",
        "* Imagine a square with sides of length 2, centered at the origin (so it goes from $−1$ to $1$ in both $x$ and $y$ direction)\n",
        "\n",
        "* Inside it, draw a circle of radius $1$.\n",
        "\n",
        "* Randomly generate a large number of points in the square.\n",
        "\n",
        "* Count how many fall inside the circle.\n",
        "\n",
        "* The ratio of points inside the circle to total points approximates the ratio of the circle's area to the square's area:\n",
        "\n",
        "\\begin{equation}\n",
        "    \\frac{\\text{Points inside the circle}}{\\text{Total number of points}} \\approx \\frac{\\pi r^2}{(2 r)^2} = \\frac{\\pi}{4}\n",
        "\\end{equation}\n",
        "\n",
        "* Multiply that ratio by 4 to estimate pi!\n",
        "\n",
        "\n",
        "✅ Your task:\n",
        "\n",
        "1. Generate $1000$ random points in the square.\n",
        "\n",
        "2. Count how many fall inside the circle (i. e. $x^2 + y^2 < 1$).\n",
        "\n",
        "3. Estimate $\\pi$!\n",
        "\n",
        "4. Try generating different numbers of random points - we expect the estimation to be more accurate the more samples we generate!\n",
        "\n",
        "5. (Optional) Make it yours! You can use different colours for the outline of the circle and the square, and the points that land inside vs outside the circle! You can find the complete list of colours at [matplotlib.org](https://matplotlib.org/stable/gallery/color/named_colors.html \"matplotlib.org\").\n"
      ]
    },
    {
      "cell_type": "code",
      "execution_count": null,
      "id": "50000323",
      "metadata": {
        "id": "50000323"
      },
      "outputs": [],
      "source": []
    },
    {
      "cell_type": "markdown",
      "id": "c76ee1ec",
      "metadata": {
        "id": "c76ee1ec"
      },
      "source": [
        "## 🎲 Simulating a game"
      ]
    },
    {
      "cell_type": "markdown",
      "id": "73e3cbc1",
      "metadata": {
        "id": "73e3cbc1"
      },
      "source": [
        "Use a Monte Carlo simulation to simulate multiple possibilities from playing a game.\n",
        "\n",
        "🧠 Idea:\n",
        "* Imagine a 5x5 grid of equally-spaced points, with the start point in the centre:\n",
        "\n",
        "```\n",
        "o o o o o\n",
        "o o o o o\n",
        "o o x o o\n",
        "o o o o o\n",
        "o o o o o\n",
        "\n",
        "```\n",
        "\n",
        "\n",
        "* A player rolls a 4-sided fair dice at each turn, indicating whether the player can move to the next point up, down, left or right.\n",
        "\n",
        "* The game ends once the player has exited the grid.\n",
        "\n",
        "* By generating a large selection of Monte Carlo simulations of a player playing the game, we can estimate probabilities the player will exit the grid in a certain number of goes.\n",
        "\n",
        "✅ Your task:\n",
        "\n",
        "There are a number of ways to do this. For example:\n",
        "\n",
        "* Use a coordinate system to track the position of the player, with the centre being (0,0). Up, down, left or right correspond to adding vectors to the player's current position.\n",
        "\n",
        "* Each turn, roll a 4-sided fair dice, and add the corresponding vector to the player's current position.\n",
        "\n",
        "* Once the position exceeds $|2|$ in any of the x,y dimensions, terminate the game.\n",
        "\n",
        "* Repeat this simulation for $1000$ games, making note of the number of steps required to terminate each game.\n",
        "\n",
        "Once you have performed your Monte Carlo simulations, try answering the following:\n",
        "\n",
        "1. Plot a histogram of the number of turns required to exit\n",
        "\n",
        "2. What is the probability of exiting the grid in 3 turns?\n",
        "\n",
        "3. What is the mean number of turns required to exit?\n",
        "\n",
        "Bonus exercise: Repeat these simulations, but with an un-fair dice of your choice."
      ]
    },
    {
      "cell_type": "code",
      "execution_count": null,
      "id": "51c8feff",
      "metadata": {
        "id": "51c8feff"
      },
      "outputs": [],
      "source": []
    }
  ],
  "metadata": {
    "kernelspec": {
      "display_name": "wew2025",
      "language": "python",
      "name": "python3"
    },
    "language_info": {
      "name": "python",
      "version": "3.13.5"
    },
    "colab": {
      "provenance": [],
      "include_colab_link": true
    }
  },
  "nbformat": 4,
  "nbformat_minor": 5
}