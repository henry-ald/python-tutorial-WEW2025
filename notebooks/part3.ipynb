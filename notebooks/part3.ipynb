{
 "cells": [
  {
   "cell_type": "markdown",
   "id": "7a85e0f6",
   "metadata": {},
   "source": [
    "# Functions\n",
    "\n",
    "Functions are objects that perform a specified task and can be reused at a later point without having to rewrite the code. They can be thought of exactly like a function $f(x)$ in maths, except we are not limited to mathematical operations.\n",
    "\n",
    "Let's define a function to calculate the force between two massive objects $F = G \\frac{m_1 m_2}{r^2}$:"
   ]
  },
  {
   "cell_type": "code",
   "execution_count": 8,
   "id": "fd6bce8c",
   "metadata": {},
   "outputs": [],
   "source": [
    "def gravitational_force(m1, m2, r, G=6.7e-11):\n",
    "    \n",
    "    force = G * m1 * m2 / r**2\n",
    "\n",
    "    return force"
   ]
  },
  {
   "cell_type": "markdown",
   "id": "eee96e54",
   "metadata": {},
   "source": [
    "We can now use `gravitational_force` any number of times to calculate the force between two objects of any mass and radius. The arguments of our function are specified in the brackets during the definition of our function. Here `m1`, `m2` and `r` are required arguments, meaning we have to supply them when we call our function, while the gravitational constant `G` is optional: it is by default $6.7\\times10^{-11}$, so we need not specify it when calling the function, unless we wanted to use a different e.g. more precise value.\n",
    "\n",
    "Often we want functions to return some result. Using `return` will exit the function, and return the specified objects, in this case the calculated force. \n",
    "\n",
    "Let's have a go at using our function:"
   ]
  },
  {
   "cell_type": "code",
   "execution_count": 9,
   "id": "2a736860",
   "metadata": {},
   "outputs": [
    {
     "name": "stdout",
     "output_type": "stream",
     "text": [
      "The gravitational force between the Earth and the Sun is 3.5733333333333336e+22 N\n"
     ]
    }
   ],
   "source": [
    "mass_earth = 6.0e24\n",
    "mass_sun = 2.0e30\n",
    "radius = 1.5e11\n",
    "\n",
    "gravitational_force = gravitational_force(mass_earth, mass_sun, radius)\n",
    "print(\"The gravitational force between the Earth and the Sun is\", gravitational_force, \"N\")"
   ]
  },
  {
   "cell_type": "markdown",
   "id": "6bbb06cc",
   "metadata": {},
   "source": [
    "Arguments are positional, meaning we have to provide the function with them in the correct order, as specified when defining the function earlier. Otherwise, we can specify them in any order using the assignment `=` operator e.g. \n",
    "``` python\n",
    "gravitational_force(r=radius, m1=mass_earth, m2=mass_sun)\n",
    "```\n",
    "\n",
    "Note that variables created inside the function cannot be accessed outside the function. For example:\n",
    "\n",
    "```python\n",
    "gravitational_force(mass_earth, mass_sun, radius)\n",
    "\n",
    "print(force)\n",
    "```\n",
    "will produce an error as `force` is not defined outside of the function. As the returned value of our function has not been assigned to some variable, it is lost."
   ]
  },
  {
   "cell_type": "markdown",
   "id": "b7ecdb3d",
   "metadata": {},
   "source": [
    "# List Comprehension\n",
    "\n",
    "List comprehension is a shorthand method for performing functions on items in a list. For example:"
   ]
  },
  {
   "cell_type": "code",
   "execution_count": 11,
   "id": "5c38eccd",
   "metadata": {},
   "outputs": [
    {
     "name": "stdout",
     "output_type": "stream",
     "text": [
      "[1, 4, 9, 16, 25]\n"
     ]
    }
   ],
   "source": [
    "numbers = [1, 2, 3, 4, 5]\n",
    "\n",
    "squared_numbers = [x**2 for x in numbers]\n",
    "\n",
    "print(squared_numbers)"
   ]
  },
  {
   "cell_type": "markdown",
   "id": "d02dd20f",
   "metadata": {},
   "source": [
    "# Exercises"
   ]
  }
 ],
 "metadata": {
  "kernelspec": {
   "display_name": "wew2025",
   "language": "python",
   "name": "python3"
  },
  "language_info": {
   "codemirror_mode": {
    "name": "ipython",
    "version": 3
   },
   "file_extension": ".py",
   "mimetype": "text/x-python",
   "name": "python",
   "nbconvert_exporter": "python",
   "pygments_lexer": "ipython3",
   "version": "3.13.5"
  }
 },
 "nbformat": 4,
 "nbformat_minor": 5
}
