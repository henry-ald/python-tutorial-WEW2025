{
 "cells": [
  {
   "cell_type": "markdown",
   "id": "3a1720eb",
   "metadata": {},
   "source": [
    "# Data Structures\n",
    "\n",
    "We have seen that elements of data can take on different types (`int`, `float`, `str`, etc). Collections of data elements can be stored in different data types.\n",
    "\n",
    "Let's have a look at some of the most commonly used data structures, and how we can manipulate them."
   ]
  },
  {
   "cell_type": "markdown",
   "id": "6f1880ab",
   "metadata": {},
   "source": [
    "## Lists\n",
    "\n",
    "Lists are instantiated with `[]`, and elements in a list are separated with commas.\n",
    "\n",
    "Let's create a list of the planets and check the length of the list:"
   ]
  },
  {
   "cell_type": "code",
   "execution_count": 36,
   "id": "28197af7",
   "metadata": {},
   "outputs": [
    {
     "name": "stdout",
     "output_type": "stream",
     "text": [
      "['earth', 'jupiter', 'neptune', 'pluto', 'venus', 'mars', 'mercury', 'uranus', 'saturn']\n",
      "9\n"
     ]
    }
   ],
   "source": [
    "planets = [\"earth\", \"jupiter\", \"neptune\", \"pluto\", \"venus\", \"mars\", \"mercury\", \"uranus\", \"saturn\"]\n",
    "\n",
    "print(planets)\n",
    "print(len(planets))"
   ]
  },
  {
   "cell_type": "markdown",
   "id": "69c883ca",
   "metadata": {},
   "source": [
    "Lists have a lot of flexibility: objects in lists can be moved around, removed, additional items can be inserted, and more. List objects have many functions to perform such operations. An extensive list of these functions can be viewed here: https://docs.python.org/3/tutorial/datastructures.html#more-on-lists\n",
    "\n",
    "Let's remove an item from this list."
   ]
  },
  {
   "cell_type": "code",
   "execution_count": 37,
   "id": "5c283920",
   "metadata": {},
   "outputs": [
    {
     "name": "stdout",
     "output_type": "stream",
     "text": [
      "['earth', 'jupiter', 'neptune', 'venus', 'mars', 'mercury', 'uranus', 'saturn']\n",
      "8\n"
     ]
    }
   ],
   "source": [
    "planets.remove(\"pluto\")\n",
    "\n",
    "print(planets)\n",
    "print(len(planets))"
   ]
  },
  {
   "cell_type": "markdown",
   "id": "0b06f19b",
   "metadata": {},
   "source": [
    "Let's add an item as well:"
   ]
  },
  {
   "cell_type": "code",
   "execution_count": 38,
   "id": "d5ae7aa1",
   "metadata": {},
   "outputs": [
    {
     "name": "stdout",
     "output_type": "stream",
     "text": [
      "['earth', 'jupiter', 'neptune', 'venus', 'mars', 'mercury', 'uranus', 'saturn', 'planet_9']\n"
     ]
    }
   ],
   "source": [
    "planets.append(\"planet_9\")\n",
    "\n",
    "print(planets)"
   ]
  },
  {
   "cell_type": "markdown",
   "id": "7fba2ee8",
   "metadata": {},
   "source": [
    "### Indexing\n",
    "\n",
    "Indices are used to point towards the position of certain elements or chunks of a data structure, such as lists, but also with strings.\n",
    "\n",
    "Each item in a list can be indexed by their position in the list, the first item in the list being indexed with `0`."
   ]
  },
  {
   "cell_type": "code",
   "execution_count": 39,
   "id": "90d62033",
   "metadata": {},
   "outputs": [
    {
     "name": "stdout",
     "output_type": "stream",
     "text": [
      "['earth', 'jupiter', 'neptune', 'venus', 'mars', 'mercury', 'uranus', 'saturn', 'planet_9']\n",
      "earth\n",
      "venus\n",
      "saturn\n"
     ]
    }
   ],
   "source": [
    "print(planets)\n",
    "\n",
    "print(planets[0])\n",
    "\n",
    "print(planets[3])\n",
    "\n",
    "print(planets[7])"
   ]
  },
  {
   "cell_type": "markdown",
   "id": "83a3f033",
   "metadata": {},
   "source": [
    "If we try to index with a number that is greater than the maximum possible index (in this case 7, because there are 8 items in the list), then we will receive an error.\n",
    "\n",
    "We can also use a `-` to count backwards from the end of the list, beginning with `-1`:"
   ]
  },
  {
   "cell_type": "code",
   "execution_count": 40,
   "id": "3f6013c4",
   "metadata": {},
   "outputs": [
    {
     "name": "stdout",
     "output_type": "stream",
     "text": [
      "['earth', 'jupiter', 'neptune', 'venus', 'mars', 'mercury', 'uranus', 'saturn', 'planet_9']\n",
      "planet_9\n",
      "mercury\n"
     ]
    }
   ],
   "source": [
    "print(planets)\n",
    "\n",
    "print(planets[-1])\n",
    "\n",
    "print(planets[-4])"
   ]
  },
  {
   "cell_type": "markdown",
   "id": "1d522d36",
   "metadata": {},
   "source": [
    "And we can use indexes to slice a list using a `:` with the starting index (inclusive) on the left of the colon and ending index (exclusive) on the right:"
   ]
  },
  {
   "cell_type": "code",
   "execution_count": 41,
   "id": "80972f13",
   "metadata": {},
   "outputs": [
    {
     "name": "stdout",
     "output_type": "stream",
     "text": [
      "['earth', 'jupiter', 'neptune', 'venus', 'mars', 'mercury', 'uranus', 'saturn', 'planet_9']\n",
      "['neptune', 'venus', 'mars']\n"
     ]
    }
   ],
   "source": [
    "print(planets)\n",
    "\n",
    "print(planets[2:5])"
   ]
  },
  {
   "cell_type": "markdown",
   "id": "e8e96f90",
   "metadata": {},
   "source": [
    "Leaving out one of the two indices when using `:` will return every item before/after the included index:"
   ]
  },
  {
   "cell_type": "code",
   "execution_count": 42,
   "id": "bc982a40",
   "metadata": {},
   "outputs": [
    {
     "name": "stdout",
     "output_type": "stream",
     "text": [
      "['earth', 'jupiter', 'neptune', 'venus', 'mars', 'mercury', 'uranus', 'saturn', 'planet_9']\n",
      "['neptune', 'venus', 'mars', 'mercury', 'uranus', 'saturn', 'planet_9']\n",
      "['earth', 'jupiter']\n"
     ]
    }
   ],
   "source": [
    "print(planets)\n",
    "\n",
    "print(planets[2:])\n",
    "\n",
    "print(planets[:2])"
   ]
  },
  {
   "cell_type": "markdown",
   "id": "e301f995",
   "metadata": {},
   "source": [
    "## Dictionaries\n",
    "\n",
    "Dictionaries are instantiated with `{}`, and contain pairs of keys and values. A key is a label for its corresponding value, and are used like indices:"
   ]
  },
  {
   "cell_type": "code",
   "execution_count": 43,
   "id": "8952889f",
   "metadata": {},
   "outputs": [
    {
     "name": "stdout",
     "output_type": "stream",
     "text": [
      "{'planet': 'earth', 'moons': 1}\n",
      "1\n"
     ]
    }
   ],
   "source": [
    "dictionary = {\"planet\": \"earth\", \"moons\": 1}\n",
    "\n",
    "print(dictionary)\n",
    "\n",
    "print(dictionary[\"moons\"])"
   ]
  },
  {
   "cell_type": "markdown",
   "id": "81104206",
   "metadata": {},
   "source": [
    "We can add to a new entry to a dictionary by specifying a new key: "
   ]
  },
  {
   "cell_type": "code",
   "execution_count": 44,
   "id": "3b928015",
   "metadata": {},
   "outputs": [
    {
     "name": "stdout",
     "output_type": "stream",
     "text": [
      "{'planet': 'earth', 'moons': 1, 'avg orbital radius (AU)': 1}\n"
     ]
    }
   ],
   "source": [
    "dictionary[\"avg orbital radius (AU)\"] = 1 \n",
    "\n",
    "print(dictionary)"
   ]
  },
  {
   "cell_type": "markdown",
   "id": "3ae93820",
   "metadata": {},
   "source": [
    "## NumPy Arrays\n",
    "\n",
    "NumPy is a Python library. A library (sometimes called a module) is a collection of pre-written code, open-source and published online, that a user can import to their local project, and make use of its functions. Most libraries do not come with Python by default because libraries can be very specific to a task someone is trying to perform.\n",
    "\n",
    "NumPy is one of the most commonly used libraries, and it is used for projects requiring mathematical operations on data.\n",
    "\n",
    "Let's import NumPy:\n"
   ]
  },
  {
   "cell_type": "code",
   "execution_count": 45,
   "id": "61338c37",
   "metadata": {},
   "outputs": [],
   "source": [
    "import numpy as np"
   ]
  },
  {
   "cell_type": "markdown",
   "id": "8373999e",
   "metadata": {},
   "source": [
    "Here we have imported NumPy so that our code can use its functions, and we have imported it as `np`, which means whenever we want to reference a NumPy function, we use `np` as an abbreviation.\n",
    "\n",
    "NumPy's utility comes in its arrays. They are effectively tables of data, but we aren't limited to just one or two dimensions."
   ]
  },
  {
   "cell_type": "code",
   "execution_count": 46,
   "id": "52812b2b",
   "metadata": {},
   "outputs": [
    {
     "name": "stdout",
     "output_type": "stream",
     "text": [
      "[1 2 3 4 5]\n"
     ]
    }
   ],
   "source": [
    "data = [1,2,3,4,5]\n",
    "\n",
    "array = np.array(data)\n",
    "\n",
    "print(array)"
   ]
  },
  {
   "cell_type": "markdown",
   "id": "101260a4",
   "metadata": {},
   "source": [
    "NumPy can perform most mathematical operations you can think of, and it applies these operations to all elements in the array, unless specified otherwise."
   ]
  },
  {
   "cell_type": "code",
   "execution_count": 47,
   "id": "929dd5c2",
   "metadata": {},
   "outputs": [
    {
     "name": "stdout",
     "output_type": "stream",
     "text": [
      "[ 1  4  9 16 25]\n",
      "[ 0.84147098 -0.7568025   0.41211849 -0.28790332 -0.13235175]\n"
     ]
    }
   ],
   "source": [
    "array = array ** 2\n",
    "\n",
    "print(array)\n",
    "\n",
    "array = np.sin(array)\n",
    "\n",
    "print(array)"
   ]
  },
  {
   "cell_type": "markdown",
   "id": "40bb2b26",
   "metadata": {},
   "source": [
    "The line below creates a 3 dimensional array, of size 2x3x4, meaning the first dimension has 2 entries, the second has 3, and the third has 4. NumPy attempts to represent this when printing the array. Each `[]` surrounds an entry in each dimension, working from the first to the last dimensions."
   ]
  },
  {
   "cell_type": "code",
   "execution_count": 48,
   "id": "2d019248",
   "metadata": {},
   "outputs": [
    {
     "name": "stdout",
     "output_type": "stream",
     "text": [
      "[[[0.20031178 0.03349002 0.7228885  0.05751897]\n",
      "  [0.44758227 0.89655885 0.59733246 0.14661288]\n",
      "  [0.62160706 0.74552643 0.92853073 0.4520389 ]]\n",
      "\n",
      " [[0.60866282 0.88911482 0.4209507  0.48343762]\n",
      "  [0.82685782 0.50397262 0.57778416 0.55281113]\n",
      "  [0.48578802 0.87102564 0.25670402 0.6936361 ]]]\n",
      "(2, 3, 4)\n"
     ]
    }
   ],
   "source": [
    "array_3d = np.random.rand(2,3,4)\n",
    "\n",
    "print(array_3d) \n",
    "print(array_3d.shape)"
   ]
  },
  {
   "cell_type": "markdown",
   "id": "a4be1bfe",
   "metadata": {},
   "source": [
    "Indexing an array is similar to indexing a list, except we can additionally index across existing dimensions, with comma separated indices to correspond to each of the dimensions."
   ]
  },
  {
   "cell_type": "code",
   "execution_count": 49,
   "id": "d12ab169",
   "metadata": {},
   "outputs": [
    {
     "name": "stdout",
     "output_type": "stream",
     "text": [
      "[[0.20031178 0.03349002 0.7228885  0.05751897]\n",
      " [0.44758227 0.89655885 0.59733246 0.14661288]\n",
      " [0.62160706 0.74552643 0.92853073 0.4520389 ]]\n",
      "[0.20031178 0.03349002 0.7228885  0.05751897]\n",
      "0.20031177865998406\n"
     ]
    }
   ],
   "source": [
    "print(array_3d[0]) # Prints the first item in the first dimension\n",
    "print(array_3d[0, 0]) # Prints the first item in the first and second dimensions\n",
    "print(array_3d[0, 0, 0]) # Prints the first item in all three dimensions"
   ]
  },
  {
   "cell_type": "markdown",
   "id": "26966e6b",
   "metadata": {},
   "source": [
    "# Exercises"
   ]
  }
 ],
 "metadata": {
  "kernelspec": {
   "display_name": "wew2025",
   "language": "python",
   "name": "python3"
  },
  "language_info": {
   "codemirror_mode": {
    "name": "ipython",
    "version": 3
   },
   "file_extension": ".py",
   "mimetype": "text/x-python",
   "name": "python",
   "nbconvert_exporter": "python",
   "pygments_lexer": "ipython3",
   "version": "3.13.5"
  }
 },
 "nbformat": 4,
 "nbformat_minor": 5
}
