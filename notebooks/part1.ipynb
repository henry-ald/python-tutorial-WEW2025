{
  "cells": [
    {
      "cell_type": "markdown",
      "metadata": {
        "colab_type": "text",
        "id": "view-in-github"
      },
      "source": [
        "<a href=\"https://colab.research.google.com/github/henry-ald/python-tutorial-WEW2025/blob/main/notebooks/notebook1.ipynb\" target=\"_parent\"><img src=\"https://colab.research.google.com/assets/colab-badge.svg\" alt=\"Open In Colab\"/></a>"
      ]
    },
    {
      "cell_type": "markdown",
      "metadata": {
        "id": "iRRDs7xlzYO7"
      },
      "source": [
        "# Intro to Python Workshop\n",
        "\n",
        "#### Work Experience Week 2025 at Mullard Space Science Laboratory, Monday 14th July. Hosted by Henry and Wiktoria. \n",
        "\n",
        "This workshop will introduce the basics of programming with Python and prepare you for some of the upcoming projects this week. \n",
        "\n",
        "Each section will have exercises to complete. Some of you may be familiar with programming already, and may find some or all of these exercises easy. If that is the case, we have more advanced notebooks that focus on elements of our own research for you to have a go at. If you are not familiar with coding, then do not fear! Maths and physics is harder than coding, which you are all capable of! "
      ]
    },
    {
      "cell_type": "markdown",
      "metadata": {},
      "source": [
        "# Why are we learning to code?\n",
        "\n",
        "Coding is extensively used in modern-day science. Use cases include:\n",
        "\n",
        "- Modelling complex systems (gravitational simulations, fluid dynamics, molecular dynamics)\n",
        "- Solving hard equations\n",
        "- Data analysis (statistics and machine learning) and data visualisation"
      ]
    },
    {
      "cell_type": "markdown",
      "metadata": {},
      "source": [
        "# Why Python?\n",
        "\n",
        "Python is one of the most popular programming languages. It's key advantages include:\n",
        "\n",
        "- Easier to learn\n",
        "- Large selection of useful libraries containing software written by other users, that can be integrated into your own work\n",
        "    - This is particularly the case for modern machine learning (AI) codes\n",
        "- Good for data visualisation"
      ]
    },
    {
      "cell_type": "markdown",
      "metadata": {},
      "source": [
        "# Notebooks\n",
        "\n",
        "You are currently viewing a Jupyter notebook, which is a file format that allows users to code and write text in one file. You are viewing this notebook in Google Colab, a website that connects to the cloud and allows you to run the code remotely on Google's high-performance computers.\n",
        "\n",
        "Code and text are written in cells. To run all the code in a notebook, you can press \"$\\triangleright$ Run all\" at the top of Google Colab. Or, to run the code in an individual cell, you can press the $\\triangleright$ on the left side of a cell. \n",
        "\n",
        "Note: The code in a notebook is ordered from top to bottom. If we run an individual cell, we might need to have previously ran some earlier cells in the notebook, if the cell we are trying to run relies on previously written code."
      ]
    },
    {
      "cell_type": "markdown",
      "metadata": {},
      "source": [
        "# Variables and data types\n",
        "\n",
        "A variable is a stored, labelled object. For example, we might want to define the mass of an object. We use `=` to assign an object to a variable:"
      ]
    },
    {
      "cell_type": "code",
      "execution_count": 9,
      "metadata": {
        "id": "rYFUyrVwzVTF"
      },
      "outputs": [],
      "source": [
        "mass = 10"
      ]
    },
    {
      "cell_type": "markdown",
      "metadata": {},
      "source": [
        "Let's print `mass` to see our stored value for `mass`:"
      ]
    },
    {
      "cell_type": "code",
      "execution_count": 10,
      "metadata": {},
      "outputs": [
        {
          "name": "stdout",
          "output_type": "stream",
          "text": [
            "10\n"
          ]
        }
      ],
      "source": [
        "print(mass)"
      ]
    },
    {
      "cell_type": "markdown",
      "metadata": {},
      "source": [
        "Data can be stored as different types. For example,\n",
        "- `int`: an integer number\n",
        "- `float`: a non-integer number\n",
        "- `bool`: a boolean object (True or False)\n",
        "- `str`: a string object (sequence of characters e.g. words)\n",
        "\n",
        "Let's check what type the `mass` variable is:"
      ]
    },
    {
      "cell_type": "code",
      "execution_count": 11,
      "metadata": {},
      "outputs": [
        {
          "data": {
            "text/plain": [
              "int"
            ]
          },
          "execution_count": 11,
          "metadata": {},
          "output_type": "execute_result"
        }
      ],
      "source": [
        "type(mass)"
      ]
    },
    {
      "cell_type": "markdown",
      "metadata": {},
      "source": [
        "We might want to update our mass, for instance if we are changing the parameters of a model or if our original measurement was incorrect:"
      ]
    },
    {
      "cell_type": "code",
      "execution_count": 12,
      "metadata": {},
      "outputs": [
        {
          "name": "stdout",
          "output_type": "stream",
          "text": [
            "10.5\n"
          ]
        },
        {
          "data": {
            "text/plain": [
              "float"
            ]
          },
          "execution_count": 12,
          "metadata": {},
          "output_type": "execute_result"
        }
      ],
      "source": [
        "mass = 10.5\n",
        "\n",
        "print(mass)\n",
        "type(mass)"
      ]
    },
    {
      "cell_type": "markdown",
      "metadata": {},
      "source": [
        "We have reassigned our `mass` variable. It now a `float` with value `10.5`. "
      ]
    },
    {
      "cell_type": "markdown",
      "metadata": {},
      "source": [
        "# Arithmetic Operations\n",
        "We can perform arithmetic operations on our variables using the following:\n",
        "- `+` to add\n",
        "- `-` to subtract\n",
        "- `*` to multiply\n",
        "- `/` to divide\n",
        "- `**` to raise to the power of\n",
        "\n",
        "BIDMAS (or BODMAS) applies in coding! Brackets need to be used where necessary.\n",
        "\n",
        "Let's do some arithmetic operations:"
      ]
    },
    {
      "cell_type": "code",
      "execution_count": 13,
      "metadata": {},
      "outputs": [
        {
          "name": "stdout",
          "output_type": "stream",
          "text": [
            "21.0\n"
          ]
        }
      ],
      "source": [
        "acceleration = 2\n",
        "force = mass * acceleration\n",
        "\n",
        "print(force)"
      ]
    },
    {
      "cell_type": "markdown",
      "metadata": {},
      "source": [
        "We don't have to define variables if we do not wish to store their values for future use:"
      ]
    },
    {
      "cell_type": "code",
      "execution_count": 14,
      "metadata": {},
      "outputs": [
        {
          "data": {
            "text/plain": [
              "7.905247813411079"
            ]
          },
          "execution_count": 14,
          "metadata": {},
          "output_type": "execute_result"
        }
      ],
      "source": [
        "1.5 + (13 / 7) ** 3"
      ]
    },
    {
      "cell_type": "markdown",
      "metadata": {},
      "source": [
        "Arithmetic operations can be applied to non-integer or float types, but only where it makes sense to do so:"
      ]
    },
    {
      "cell_type": "code",
      "execution_count": 39,
      "metadata": {},
      "outputs": [
        {
          "name": "stdout",
          "output_type": "stream",
          "text": [
            "Isaac Newton\n"
          ]
        }
      ],
      "source": [
        "first_name = \"Isaac\"\n",
        "second_name = \"Newton\"\n",
        "\n",
        "full_name = first_name + \" \" + second_name\n",
        "print(full_name)"
      ]
    },
    {
      "cell_type": "markdown",
      "metadata": {},
      "source": [
        "If we were to code `first_name * second_name`, we would get an error, because multiplying two strings does not make sense!"
      ]
    },
    {
      "cell_type": "markdown",
      "metadata": {},
      "source": [
        "# Comparison and Logic Operations\n",
        "Other important Python operators include comparison operators: \n",
        "- `==`: equal\n",
        "- `!=`: not equal\n",
        "- `>`: greater than\n",
        "- `<`: less than\n",
        "- `>=`: greater than or equal to\n",
        "- `<=` less than or equal to\n",
        "\n",
        "and logic operators:\n",
        "- `and`: returns True if both statements are true\n",
        "- `or`: returns True if at least one of both statements are true\n",
        "- `not`: reverses the result, returning False if the result is true\n",
        "\n",
        "Using these operators will produce a `bool`:"
      ]
    },
    {
      "cell_type": "code",
      "execution_count": null,
      "metadata": {},
      "outputs": [
        {
          "data": {
            "text/plain": [
              "False"
            ]
          },
          "execution_count": 23,
          "metadata": {},
          "output_type": "execute_result"
        }
      ],
      "source": [
        "3 > 4"
      ]
    },
    {
      "cell_type": "code",
      "execution_count": 18,
      "metadata": {},
      "outputs": [
        {
          "data": {
            "text/plain": [
              "True"
            ]
          },
          "execution_count": 18,
          "metadata": {},
          "output_type": "execute_result"
        }
      ],
      "source": [
        "3 < 4"
      ]
    },
    {
      "cell_type": "code",
      "execution_count": 26,
      "metadata": {},
      "outputs": [
        {
          "data": {
            "text/plain": [
              "True"
            ]
          },
          "execution_count": 26,
          "metadata": {},
          "output_type": "execute_result"
        }
      ],
      "source": [
        "(3 < 4) and (5 == 5.0)"
      ]
    },
    {
      "cell_type": "code",
      "execution_count": 29,
      "metadata": {},
      "outputs": [
        {
          "data": {
            "text/plain": [
              "True"
            ]
          },
          "execution_count": 29,
          "metadata": {},
          "output_type": "execute_result"
        }
      ],
      "source": [
        "(3 > 4) or (5 == 5.0)"
      ]
    },
    {
      "cell_type": "code",
      "execution_count": 30,
      "metadata": {},
      "outputs": [
        {
          "data": {
            "text/plain": [
              "False"
            ]
          },
          "execution_count": 30,
          "metadata": {},
          "output_type": "execute_result"
        }
      ],
      "source": [
        "(3 < 4) and not (5 == 5.0)"
      ]
    },
    {
      "cell_type": "markdown",
      "metadata": {},
      "source": [
        "# Conditionals and Control Flow\n",
        "Conditionals and control flow provide means of directing our code to perform certain tasks according to certain criteria.\n",
        "\n",
        "We begin with `if`, `elif` and `else` statements:"
      ]
    },
    {
      "cell_type": "code",
      "execution_count": 31,
      "metadata": {},
      "outputs": [
        {
          "name": "stdout",
          "output_type": "stream",
          "text": [
            "x is equal to 5!\n"
          ]
        }
      ],
      "source": [
        "x = 5 # Try changing this value\n",
        "\n",
        "if x > 5:\n",
        "    print(\"x is greater than 5!\")\n",
        "elif x == 5:\n",
        "    print(\"x is equal to 5!\")\n",
        "else:\n",
        "    print(\"x is less than 5!\")"
      ]
    },
    {
      "cell_type": "markdown",
      "metadata": {},
      "source": [
        "`for`- and `while`-loops allow us to continually perform a task until certain criteria are met:"
      ]
    },
    {
      "cell_type": "code",
      "execution_count": 40,
      "metadata": {},
      "outputs": [
        {
          "name": "stdout",
          "output_type": "stream",
          "text": [
            "M\n",
            "S\n",
            "S\n",
            "L\n",
            ",\n",
            " \n",
            "S\n",
            "u\n",
            "r\n",
            "r\n",
            "e\n",
            "y\n"
          ]
        }
      ],
      "source": [
        "location = \"MSSL, Surrey\"\n",
        "\n",
        "for character in location:\n",
        "    print(character)"
      ]
    },
    {
      "cell_type": "markdown",
      "metadata": {},
      "source": [
        "In the above, `character` is a variable assigned by the `for`-loop with each iteration in the loop. We named it `character` for clarity, because in this case the `for`-loop iterates over characters in a string."
      ]
    },
    {
      "cell_type": "code",
      "execution_count": 43,
      "metadata": {},
      "outputs": [
        {
          "name": "stdout",
          "output_type": "stream",
          "text": [
            "55\n"
          ]
        }
      ],
      "source": [
        "n = 0\n",
        "summation = 0\n",
        "\n",
        "while n < 10:\n",
        "    n = n + 1\n",
        "    summation = summation + n\n",
        "\n",
        "print(summation)\n"
      ]
    },
    {
      "cell_type": "markdown",
      "metadata": {},
      "source": [
        "In the above, the `while`-loop continually iterates the code inside of it until a condition is met. "
      ]
    },
    {
      "cell_type": "markdown",
      "metadata": {},
      "source": [
        "# Exercises\n",
        "To-do"
      ]
    }
  ],
  "metadata": {
    "colab": {
      "authorship_tag": "ABX9TyOR6ors9bBVgnUDmFkyoz/N",
      "include_colab_link": true,
      "provenance": []
    },
    "kernelspec": {
      "display_name": "wew2025",
      "language": "python",
      "name": "python3"
    },
    "language_info": {
      "codemirror_mode": {
        "name": "ipython",
        "version": 3
      },
      "file_extension": ".py",
      "mimetype": "text/x-python",
      "name": "python",
      "nbconvert_exporter": "python",
      "pygments_lexer": "ipython3",
      "version": "3.13.5"
    }
  },
  "nbformat": 4,
  "nbformat_minor": 0
}
