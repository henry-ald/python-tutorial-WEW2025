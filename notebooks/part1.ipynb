{
  "cells": [
    {
      "cell_type": "markdown",
      "metadata": {
        "id": "view-in-github",
        "colab_type": "text"
      },
      "source": [
        "<a href=\"https://colab.research.google.com/github/henry-ald/python-tutorial-WEW2025/blob/main/notebooks/part1.ipynb\" target=\"_parent\"><img src=\"https://colab.research.google.com/assets/colab-badge.svg\" alt=\"Open In Colab\"/></a>"
      ]
    },
    {
      "cell_type": "markdown",
      "metadata": {
        "editable": true,
        "id": "iRRDs7xlzYO7",
        "tags": []
      },
      "source": [
        "# Intro to Python Workshop\n",
        "\n",
        "This workshop will introduce the basics of programming with Python and prepare you for some of the upcoming projects this week.\n",
        "\n",
        "Each section will have exercises to complete.\n",
        "\n",
        "Some of you may be familiar with programming already, and may find some or all of these exercises easy. We have more advanced notebooks for those who are interested.\n",
        "\n",
        "If you are not familiar with coding, then do not fear! Maths and physics is harder than coding, which you are all capable of!"
      ]
    },
    {
      "cell_type": "markdown",
      "metadata": {
        "editable": true,
        "tags": [],
        "id": "k4QnEXPyORGY"
      },
      "source": [
        "# Why are we learning to code?\n",
        "\n",
        "Coding is extensively used in modern-day science. Use cases include:\n",
        "\n",
        "- Modelling complex systems (gravitational simulations, fluid dynamics, molecular dynamics)\n",
        "- Solving hard equations\n",
        "- Data analysis and data visualisation"
      ]
    },
    {
      "cell_type": "markdown",
      "metadata": {
        "editable": true,
        "tags": [],
        "id": "KJzXGBNoORGY"
      },
      "source": [
        "# Why Python?\n",
        "\n",
        "Python is one of the most popular programming languages. It's key advantages include:\n",
        "\n",
        "- Easier to learn\n",
        "- Large selection of useful libraries containing software written by other users that can be integrated into your own work\n",
        "    - This is particularly the case for modern machine learning codes\n",
        "- Good for data visualisation"
      ]
    },
    {
      "cell_type": "markdown",
      "metadata": {
        "editable": true,
        "tags": [],
        "id": "pqP7gxQOORGY"
      },
      "source": [
        "# Notebooks\n",
        "\n",
        "You are currently viewing a Python notebook, which is a file format that allows users to code and write text in one file.\n",
        "\n",
        "You are viewing this notebook in Google Colab, a website that connects to the cloud and allows you to run the code remotely on Google's high-performance computers.\n",
        "\n",
        "Code and text are written in cells. Press \"$\\triangleright$ Run all\" at the top of Google Colab to run all the code. To run the code in an individual cell, press the $\\triangleright$ on the left side of a cell.\n",
        "\n",
        "Note: The code in a notebook is ordered from top to bottom. If we run an individual cell, we might need to have previously ran some earlier cells in the notebook, if the cell we are trying to run relies on previously written code."
      ]
    },
    {
      "cell_type": "markdown",
      "metadata": {
        "editable": true,
        "tags": [],
        "id": "DJtmY7P1ORGY"
      },
      "source": [
        "# Variables and data types\n",
        "\n",
        "A variable is a stored, labelled object. For example, we might want to define the mass of an object for use later on. We use `=` to assign an object to a variable:"
      ]
    },
    {
      "cell_type": "code",
      "execution_count": null,
      "metadata": {
        "editable": true,
        "id": "rYFUyrVwzVTF",
        "tags": []
      },
      "outputs": [],
      "source": [
        "mass = 10"
      ]
    },
    {
      "cell_type": "markdown",
      "metadata": {
        "editable": true,
        "tags": [],
        "id": "q4DpMhyRORGZ"
      },
      "source": [
        "Let's print `mass` to see our stored value for `mass`:"
      ]
    },
    {
      "cell_type": "code",
      "execution_count": null,
      "metadata": {
        "editable": true,
        "tags": [],
        "id": "PqIEqblSORGZ",
        "outputId": "c2c7ed3e-1ea1-4033-eb65-9b32e344f93a"
      },
      "outputs": [
        {
          "name": "stdout",
          "output_type": "stream",
          "text": [
            "10\n"
          ]
        }
      ],
      "source": [
        "print(mass)"
      ]
    },
    {
      "cell_type": "markdown",
      "metadata": {
        "editable": true,
        "tags": [],
        "id": "BJeT4t1vORGa"
      },
      "source": [
        "Data can be stored as different types. For example,\n",
        "\n",
        "- `int`: an integer number\n",
        "- `float`: a non-integer number\n",
        "- `bool`: a boolean object (True or False)\n",
        "- `str`: a string object (sequence of characters e.g. words)"
      ]
    },
    {
      "cell_type": "markdown",
      "metadata": {
        "editable": true,
        "tags": [],
        "id": "S9LPjZgCORGa"
      },
      "source": [
        "Let's check what type the `mass` variable is:"
      ]
    },
    {
      "cell_type": "code",
      "execution_count": null,
      "metadata": {
        "editable": true,
        "tags": [],
        "id": "yRbItN9zORGa",
        "outputId": "c924f71b-fda2-496d-f563-847aaedf78e4"
      },
      "outputs": [
        {
          "data": {
            "text/plain": [
              "int"
            ]
          },
          "execution_count": 3,
          "metadata": {},
          "output_type": "execute_result"
        }
      ],
      "source": [
        "type(mass)"
      ]
    },
    {
      "cell_type": "markdown",
      "metadata": {
        "editable": true,
        "tags": [],
        "id": "DqV_ERHcORGa"
      },
      "source": [
        "We might want to update our mass, for instance if we are changing the parameters of a model or if our original measurement was incorrect:"
      ]
    },
    {
      "cell_type": "code",
      "execution_count": null,
      "metadata": {
        "editable": true,
        "tags": [],
        "id": "6xACHrreORGa",
        "outputId": "deed8a02-d400-42fb-9540-dc64ac226deb"
      },
      "outputs": [
        {
          "name": "stdout",
          "output_type": "stream",
          "text": [
            "10.5\n"
          ]
        },
        {
          "data": {
            "text/plain": [
              "float"
            ]
          },
          "execution_count": 4,
          "metadata": {},
          "output_type": "execute_result"
        }
      ],
      "source": [
        "mass = 10.5\n",
        "\n",
        "print(mass)\n",
        "type(mass)"
      ]
    },
    {
      "cell_type": "markdown",
      "metadata": {
        "editable": true,
        "tags": [],
        "id": "sECyvMlRORGb"
      },
      "source": [
        "We have reassigned our `mass` variable. It now a `float` with the value `10.5`."
      ]
    },
    {
      "cell_type": "markdown",
      "metadata": {
        "editable": true,
        "tags": [],
        "id": "vGlpxTASORGb"
      },
      "source": [
        "# Arithmetic Operations\n",
        "We can perform arithmetic operations on our variables using the following:\n",
        "- `+` to add\n",
        "- `-` to subtract\n",
        "- `*` to multiply\n",
        "- `/` to divide\n",
        "- `**` to raise to the power of\n",
        "\n",
        "BIDMAS (or BODMAS) applies in coding! Brackets need to be used where necessary."
      ]
    },
    {
      "cell_type": "markdown",
      "metadata": {
        "editable": true,
        "tags": [],
        "id": "aLNMFTyyORGb"
      },
      "source": [
        "Let's do some arithmetic operations:"
      ]
    },
    {
      "cell_type": "code",
      "execution_count": null,
      "metadata": {
        "editable": true,
        "tags": [],
        "id": "S62e7ZJyORGb",
        "outputId": "0322b6dd-2472-422c-e3d2-d43121c99f55"
      },
      "outputs": [
        {
          "name": "stdout",
          "output_type": "stream",
          "text": [
            "21.0\n"
          ]
        }
      ],
      "source": [
        "acceleration = 2\n",
        "force = mass * acceleration\n",
        "\n",
        "print(force)"
      ]
    },
    {
      "cell_type": "markdown",
      "metadata": {
        "editable": true,
        "tags": [],
        "id": "WoiUy2OPORGb"
      },
      "source": [
        "We don't have to define variables if we do not wish to store their values for future use:"
      ]
    },
    {
      "cell_type": "code",
      "execution_count": null,
      "metadata": {
        "editable": true,
        "tags": [],
        "id": "gQXcqiB3ORGb",
        "outputId": "42b38dbc-d8af-4d75-9089-ee7c64b7a31d"
      },
      "outputs": [
        {
          "data": {
            "text/plain": [
              "7.905247813411079"
            ]
          },
          "execution_count": 6,
          "metadata": {},
          "output_type": "execute_result"
        }
      ],
      "source": [
        "1.5 + (13 / 7) ** 3"
      ]
    },
    {
      "cell_type": "markdown",
      "metadata": {
        "editable": true,
        "tags": [],
        "id": "Rho35LM0ORGc"
      },
      "source": [
        "Arithmetic operations can be applied to non-integer or float types, but only where it makes sense to do so:"
      ]
    },
    {
      "cell_type": "code",
      "execution_count": null,
      "metadata": {
        "editable": true,
        "tags": [],
        "id": "f65M9kGMORGc",
        "outputId": "1bb106b0-6181-4c47-bab7-42700a67099d"
      },
      "outputs": [
        {
          "name": "stdout",
          "output_type": "stream",
          "text": [
            "Isaac Newton\n"
          ]
        }
      ],
      "source": [
        "first_name = \"Isaac\"\n",
        "second_name = \"Newton\"\n",
        "\n",
        "full_name = first_name + \" \" + second_name\n",
        "print(full_name)"
      ]
    },
    {
      "cell_type": "markdown",
      "metadata": {
        "editable": true,
        "tags": [],
        "id": "zTBkUdZhORGc"
      },
      "source": [
        "If we were to code `first_name * second_name`, we would get an error, because multiplying two strings does not make sense!\n",
        "\n",
        "Connecting sequences of data (e.g. characters, in this case) is termed \"concatenating\"."
      ]
    },
    {
      "cell_type": "markdown",
      "metadata": {
        "editable": true,
        "tags": [],
        "id": "2zqdpaEHORGc"
      },
      "source": [
        "# Comparison and Logic Operations\n",
        "Other important Python operators include comparison operators:\n",
        "- `==`: equal\n",
        "- `!=`: not equal\n",
        "- `>`: greater than\n",
        "- `<`: less than\n",
        "- `>=`: greater than or equal to\n",
        "- `<=` less than or equal to\n",
        "\n",
        "and logic operators:\n",
        "- `and`: returns True if both statements are true\n",
        "- `or`: returns True if at least one of both statements are true\n",
        "- `not`: reverses the result, returning False if the result is true"
      ]
    },
    {
      "cell_type": "markdown",
      "metadata": {
        "editable": true,
        "tags": [],
        "id": "6TdxUXcuORGc"
      },
      "source": [
        "Using these operators will produce a `bool`:"
      ]
    },
    {
      "cell_type": "code",
      "execution_count": null,
      "metadata": {
        "editable": true,
        "tags": [],
        "id": "BU4vgEqNORGc",
        "outputId": "e6bc6ddd-a70a-473e-dc23-3f2bc730e3a2"
      },
      "outputs": [
        {
          "data": {
            "text/plain": [
              "False"
            ]
          },
          "execution_count": 8,
          "metadata": {},
          "output_type": "execute_result"
        }
      ],
      "source": [
        "3 > 4"
      ]
    },
    {
      "cell_type": "code",
      "execution_count": null,
      "metadata": {
        "editable": true,
        "tags": [],
        "id": "FeUIx3hxORGc",
        "outputId": "12ad6a5a-0ad8-4f85-b442-66965b88d543"
      },
      "outputs": [
        {
          "data": {
            "text/plain": [
              "True"
            ]
          },
          "execution_count": 9,
          "metadata": {},
          "output_type": "execute_result"
        }
      ],
      "source": [
        "3 < 4"
      ]
    },
    {
      "cell_type": "code",
      "execution_count": null,
      "metadata": {
        "editable": true,
        "tags": [],
        "id": "MhjmAqnzORGd",
        "outputId": "e0937db4-7bb3-40a6-e4f4-49684c8c54bb"
      },
      "outputs": [
        {
          "data": {
            "text/plain": [
              "True"
            ]
          },
          "execution_count": 10,
          "metadata": {},
          "output_type": "execute_result"
        }
      ],
      "source": [
        "(3 < 4) and (5 == 5.0)"
      ]
    },
    {
      "cell_type": "code",
      "execution_count": null,
      "metadata": {
        "editable": true,
        "tags": [],
        "id": "EQkf9e02ORGd",
        "outputId": "2edc40d3-333d-4f19-c05d-d0fcd572a6d0"
      },
      "outputs": [
        {
          "data": {
            "text/plain": [
              "True"
            ]
          },
          "execution_count": 11,
          "metadata": {},
          "output_type": "execute_result"
        }
      ],
      "source": [
        "(3 > 4) or (5 == 5.0)"
      ]
    },
    {
      "cell_type": "code",
      "execution_count": null,
      "metadata": {
        "editable": true,
        "tags": [],
        "id": "Mi45XLS-ORGd",
        "outputId": "f5a5b7f5-1012-4461-afde-9628ca782ac5"
      },
      "outputs": [
        {
          "data": {
            "text/plain": [
              "False"
            ]
          },
          "execution_count": 12,
          "metadata": {},
          "output_type": "execute_result"
        }
      ],
      "source": [
        "(3 < 4) and not (5 == 5.0)"
      ]
    },
    {
      "cell_type": "markdown",
      "metadata": {
        "editable": true,
        "tags": [],
        "id": "uN1NPYahORGd"
      },
      "source": [
        "# Conditionals and Control Flow\n",
        "Conditionals and control flow provide means of directing our code to perform certain tasks according to certain criteria."
      ]
    },
    {
      "cell_type": "markdown",
      "metadata": {
        "editable": true,
        "tags": [],
        "id": "0oS4fQGIORGd"
      },
      "source": [
        "We begin with `if`, `elif` and `else` statements:"
      ]
    },
    {
      "cell_type": "code",
      "execution_count": null,
      "metadata": {
        "editable": true,
        "tags": [],
        "id": "iNhQTEGaORGd",
        "outputId": "3132c016-a2ca-4bd4-b7a9-e6dd9dec707f"
      },
      "outputs": [
        {
          "name": "stdout",
          "output_type": "stream",
          "text": [
            "x is equal to 5!\n"
          ]
        }
      ],
      "source": [
        "x = 5 # Try changing this value\n",
        "\n",
        "if x > 5:\n",
        "    print(\"x is greater than 5!\")\n",
        "elif x == 5:\n",
        "    print(\"x is equal to 5!\")\n",
        "else:\n",
        "    print(\"x is less than 5!\")"
      ]
    },
    {
      "cell_type": "markdown",
      "metadata": {
        "editable": true,
        "tags": [],
        "id": "NeCKLF8TORGd"
      },
      "source": [
        "Note the indentation. The following would produce an error:\n",
        "```python\n",
        "if x > 5:\n",
        "print(\"x is greater than 5!\")\n",
        "elif x == 5:\n",
        "print(\"x is equal to 5!\")\n",
        "else:\n",
        "print(\"x is less than 5!\")\n",
        "```"
      ]
    },
    {
      "cell_type": "markdown",
      "metadata": {
        "editable": true,
        "tags": [],
        "id": "-5-GojK5ORGd"
      },
      "source": [
        "`for`-loops iterate over a sequence:"
      ]
    },
    {
      "cell_type": "code",
      "execution_count": null,
      "metadata": {
        "editable": true,
        "tags": [],
        "id": "8sxban4XORGd",
        "outputId": "5563e748-dd34-4b91-db8b-35293031c73c"
      },
      "outputs": [
        {
          "name": "stdout",
          "output_type": "stream",
          "text": [
            "M\n",
            "S\n",
            "S\n",
            "L\n",
            ",\n",
            " \n",
            "S\n",
            "u\n",
            "r\n",
            "r\n",
            "e\n",
            "y\n"
          ]
        }
      ],
      "source": [
        "location = \"MSSL, Surrey\"\n",
        "\n",
        "for character in location:\n",
        "    print(character)"
      ]
    },
    {
      "cell_type": "markdown",
      "metadata": {
        "editable": true,
        "tags": [],
        "id": "-akwBHgrORGd"
      },
      "source": [
        "In the above, `character` is a variable assigned by the `for`-loop with each iteration of the loop. We named it `character` for clarity, because in this case the `for`-loop iterates over characters in a string."
      ]
    },
    {
      "cell_type": "markdown",
      "metadata": {
        "editable": true,
        "tags": [],
        "id": "eSxAIZQcORGd"
      },
      "source": [
        "It is also useful to use a `range` object, which can be iterated on to produce numbers in a specified range:"
      ]
    },
    {
      "cell_type": "code",
      "execution_count": null,
      "metadata": {
        "editable": true,
        "tags": [],
        "id": "-0pLYHxHORGd",
        "outputId": "7b54850d-ed66-436e-9ff9-15ad68af29ba"
      },
      "outputs": [
        {
          "name": "stdout",
          "output_type": "stream",
          "text": [
            "0\n",
            "1\n",
            "2\n",
            "3\n",
            "4\n"
          ]
        }
      ],
      "source": [
        "for i in range(5):\n",
        "    print(i)"
      ]
    },
    {
      "cell_type": "markdown",
      "metadata": {
        "editable": true,
        "tags": [],
        "id": "gJQTB0QYORGe"
      },
      "source": [
        "By convention, counting in programming starts at 0 rather than 1. Typically, lower bounds are inclusive while upper bounds are exclusive:"
      ]
    },
    {
      "cell_type": "code",
      "execution_count": null,
      "metadata": {
        "editable": true,
        "tags": [],
        "id": "lf1WhTMHORGe",
        "outputId": "7373e0e7-3929-4cd5-cfc6-207e23d886e0"
      },
      "outputs": [
        {
          "name": "stdout",
          "output_type": "stream",
          "text": [
            "3\n",
            "4\n",
            "5\n"
          ]
        }
      ],
      "source": [
        "for i in range(3, 6):\n",
        "    print(i)"
      ]
    },
    {
      "cell_type": "markdown",
      "metadata": {
        "editable": true,
        "tags": [],
        "id": "VlKBPcWAORGe"
      },
      "source": [
        "A `while`-loop continually iterates over the code inside of the loop until a condition is met:"
      ]
    },
    {
      "cell_type": "code",
      "execution_count": null,
      "metadata": {
        "editable": true,
        "tags": [],
        "id": "Gevvx1hBORGe",
        "outputId": "b4843c15-d2af-46d6-a328-3de8912f1e1a"
      },
      "outputs": [
        {
          "name": "stdout",
          "output_type": "stream",
          "text": [
            "55\n"
          ]
        }
      ],
      "source": [
        "n = 0\n",
        "summation = 0\n",
        "\n",
        "while n < 10:\n",
        "    n = n + 1\n",
        "    summation = summation + n\n",
        "\n",
        "print(summation)\n"
      ]
    },
    {
      "cell_type": "markdown",
      "metadata": {
        "editable": true,
        "tags": [],
        "id": "U5fQAso7ORGe"
      },
      "source": [
        "# Exercises\n"
      ]
    },
    {
      "cell_type": "markdown",
      "metadata": {
        "editable": true,
        "tags": [],
        "id": "G0ZYjaGLORGe"
      },
      "source": [
        "### Arithmetical Operations\n",
        "\n",
        "Perform the following arithmetic operations in the kernels below:"
      ]
    },
    {
      "cell_type": "markdown",
      "metadata": {
        "editable": true,
        "tags": [],
        "id": "gNrPq_meORGe"
      },
      "source": [
        "1. Convert 250 degrees Fahrenheit to Celsius\n",
        "\n",
        "    _(Hint: Use the formula $C = \\frac{5}{9} (F - 32)$)_"
      ]
    },
    {
      "cell_type": "code",
      "execution_count": null,
      "metadata": {
        "editable": true,
        "tags": [],
        "id": "Ki3DDTuOORGe"
      },
      "outputs": [],
      "source": []
    },
    {
      "cell_type": "markdown",
      "metadata": {
        "editable": true,
        "tags": [],
        "id": "3B5wpL1QORGe"
      },
      "source": [
        "2. Calculate area of a circle with radius $\\sqrt{64}$.\n",
        "\n",
        "    _(Hint: Formula for the area of a circle is $A = \\pi r^2$)_"
      ]
    },
    {
      "cell_type": "code",
      "execution_count": null,
      "metadata": {
        "editable": true,
        "tags": [],
        "id": "gWRe_KzyORGe"
      },
      "outputs": [],
      "source": []
    },
    {
      "cell_type": "markdown",
      "metadata": {
        "editable": true,
        "tags": [],
        "id": "rkL8zdeyORGe"
      },
      "source": [
        "3. Calculate the circumference of a circle with radius $2^8$.\n",
        "\n",
        "    _(Hint: Circumference of a circle is $C = 2 \\pi r$)_"
      ]
    },
    {
      "cell_type": "code",
      "execution_count": null,
      "metadata": {
        "editable": true,
        "tags": [],
        "id": "i3WRenD7ORGf"
      },
      "outputs": [],
      "source": []
    },
    {
      "cell_type": "markdown",
      "metadata": {
        "editable": true,
        "tags": [],
        "id": "1Rg7nTAZORGf"
      },
      "source": [
        "### Comparison and Logic Operations\n",
        "\n",
        "Using comparison and logic operators discussed during the workshop, answer the following questions:"
      ]
    },
    {
      "cell_type": "markdown",
      "metadata": {
        "editable": true,
        "tags": [],
        "id": "4SiJRmeGORGf"
      },
      "source": [
        "1. Is $2^8$ larger, less than, or equal to $8^2$ ?"
      ]
    },
    {
      "cell_type": "code",
      "execution_count": null,
      "metadata": {
        "editable": true,
        "tags": [],
        "id": "5wTSdOQqORGf"
      },
      "outputs": [],
      "source": []
    },
    {
      "cell_type": "markdown",
      "metadata": {
        "editable": true,
        "tags": [],
        "id": "dScEA-YJORGf"
      },
      "source": [
        "2. Is $\\sqrt{125}$ larger, less than, or equal to $3^5$ ?"
      ]
    },
    {
      "cell_type": "code",
      "execution_count": null,
      "metadata": {
        "editable": true,
        "tags": [],
        "id": "_7VTC3LVORGf"
      },
      "outputs": [],
      "source": []
    },
    {
      "cell_type": "markdown",
      "metadata": {
        "editable": true,
        "tags": [],
        "id": "-3p2RT1CORGf"
      },
      "source": [
        "3. Is $\\frac{3 \\sqrt{2}}{4}$ larger, less than, or equal to $\\frac{4 \\sqrt{9}}{2^2}$ ?"
      ]
    },
    {
      "cell_type": "code",
      "execution_count": null,
      "metadata": {
        "editable": true,
        "tags": [],
        "id": "9QhnD1iQORGf"
      },
      "outputs": [],
      "source": []
    },
    {
      "cell_type": "markdown",
      "metadata": {
        "editable": true,
        "tags": [],
        "id": "bcdGfOo-ORGf"
      },
      "source": [
        "### Conditionals and Control Flow"
      ]
    },
    {
      "cell_type": "markdown",
      "metadata": {
        "editable": true,
        "tags": [],
        "id": "FUJ4nZbNORGf"
      },
      "source": [
        "1. Set a variable `x` equal to 3. Set a second variable `threshold` equal to 12. Create an `if`/`else` statement to print a statement to say if $2^x$ is above or below the `threshold` value. Test your method by changing what `x` is set to."
      ]
    },
    {
      "cell_type": "code",
      "execution_count": null,
      "metadata": {
        "editable": true,
        "tags": [],
        "id": "5_H3pim-ORGf"
      },
      "outputs": [],
      "source": []
    },
    {
      "cell_type": "markdown",
      "metadata": {
        "editable": true,
        "tags": [],
        "id": "3eYFciCfORGf"
      },
      "source": [
        "2. For integer values of radii from 2 up to and including 7, calculate and print both area and circumference for each circle."
      ]
    },
    {
      "cell_type": "code",
      "execution_count": null,
      "metadata": {
        "editable": true,
        "tags": [],
        "id": "F9hKleP9ORGf"
      },
      "outputs": [],
      "source": []
    },
    {
      "cell_type": "markdown",
      "metadata": {
        "editable": true,
        "tags": [],
        "id": "mFEFkUQbORGf"
      },
      "source": [
        "3. Using a `while`-loop, compute the summation $\\sum_{i=1}^{10} 2i$ and print the result."
      ]
    },
    {
      "cell_type": "code",
      "execution_count": null,
      "metadata": {
        "editable": true,
        "tags": [],
        "id": "rASP-A7UORGf"
      },
      "outputs": [],
      "source": []
    }
  ],
  "metadata": {
    "colab": {
      "provenance": [],
      "include_colab_link": true
    },
    "kernelspec": {
      "display_name": "Python 3 (ipykernel)",
      "language": "python",
      "name": "python3"
    },
    "language_info": {
      "codemirror_mode": {
        "name": "ipython",
        "version": 3
      },
      "file_extension": ".py",
      "mimetype": "text/x-python",
      "name": "python",
      "nbconvert_exporter": "python",
      "pygments_lexer": "ipython3",
      "version": "3.13.5"
    }
  },
  "nbformat": 4,
  "nbformat_minor": 0
}