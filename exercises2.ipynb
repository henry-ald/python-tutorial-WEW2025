{
 "cells": [
  {
   "cell_type": "markdown",
   "id": "454c3642",
   "metadata": {},
   "source": [
    "## Exercises 2: Data structures"
   ]
  },
  {
   "cell_type": "markdown",
   "id": "553b1777",
   "metadata": {},
   "source": [
    "### Lists & indexing 📋"
   ]
  },
  {
   "cell_type": "markdown",
   "id": "a4578f94",
   "metadata": {},
   "source": [
    "🪐  Look at the list of `planets` in the kernel below. Use a `for` loop and `if` statement to print only the planet names longer than 5 characters."
   ]
  },
  {
   "cell_type": "code",
   "execution_count": 1,
   "id": "75f665fb",
   "metadata": {},
   "outputs": [],
   "source": [
    "planets = [\"earth\", \"jupiter\", \"neptune\", \"pluto\", \"venus\", \"mars\", \"mercury\", \"uranus\", \"saturn\"]\n"
   ]
  },
  {
   "cell_type": "markdown",
   "id": "82419a2e",
   "metadata": {},
   "source": [
    "### Dictionaries 📖"
   ]
  },
  {
   "cell_type": "markdown",
   "id": "8299e05e",
   "metadata": {},
   "source": [
    "1. Create a dictionary called `mars_info` with keys:\n",
    "    - \"planet\" set to \"mars\"\n",
    "    - \"moons\" set to 2\n",
    "    - \"has_rings\" set to False\n",
    "\n",
    "2. Add a new key \"diameter_km\" with value 6792 to your mars_info dictionary.\n",
    "\n",
    "3. Print a sentence using values from the dictionary:\n",
    "```Mars has 2 moons and a diameter of 6792 km.```"
   ]
  },
  {
   "cell_type": "code",
   "execution_count": null,
   "id": "0c9ad4c3",
   "metadata": {},
   "outputs": [],
   "source": []
  },
  {
   "cell_type": "markdown",
   "id": "cbe7b236",
   "metadata": {},
   "source": [
    "Create a dictionary that maps planet names to the number of moons they have (e.g. `\"jupiter\": 92`).\n",
    "Let the user input a planet name (using `input()`), and return the number of moons."
   ]
  },
  {
   "cell_type": "code",
   "execution_count": null,
   "id": "d814cd2e",
   "metadata": {},
   "outputs": [],
   "source": []
  },
  {
   "cell_type": "markdown",
   "id": "062fe258",
   "metadata": {},
   "source": [
    "### NumPy Arrays 🧮"
   ]
  },
  {
   "cell_type": "markdown",
   "id": "4c15fa47",
   "metadata": {},
   "source": [
    "1. Create a `NumPy` array with the numbers 0 to 9.\n",
    "\n",
    "2. Multiply all elements by 3 and print the result.\n",
    "\n",
    "3. Create an array of 5 random numbers between 0 and 1 using `np.random.rand()`."
   ]
  },
  {
   "cell_type": "code",
   "execution_count": null,
   "id": "d97c14e2",
   "metadata": {},
   "outputs": [],
   "source": []
  },
  {
   "cell_type": "markdown",
   "id": "c863b368",
   "metadata": {},
   "source": [
    "1. Create two NumPy arrays of size 3 representing 3D vectors.\n",
    "\n",
    "2. Compute their:\n",
    "    - Dot product (`np.dot`)\n",
    "    - Cross product (`np.cross`)\n",
    "    - Angle between them in degrees (use `np.arccos` and `np.linalg.norm`)"
   ]
  },
  {
   "cell_type": "code",
   "execution_count": null,
   "id": "319790c1",
   "metadata": {},
   "outputs": [],
   "source": []
  }
 ],
 "metadata": {
  "kernelspec": {
   "display_name": "base",
   "language": "python",
   "name": "python3"
  },
  "language_info": {
   "codemirror_mode": {
    "name": "ipython",
    "version": 3
   },
   "file_extension": ".py",
   "mimetype": "text/x-python",
   "name": "python",
   "nbconvert_exporter": "python",
   "pygments_lexer": "ipython3",
   "version": "3.9.12"
  }
 },
 "nbformat": 4,
 "nbformat_minor": 5
}
