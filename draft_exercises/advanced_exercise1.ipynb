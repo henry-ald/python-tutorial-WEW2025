{
 "cells": [
  {
   "cell_type": "markdown",
   "id": "e621b15e",
   "metadata": {},
   "source": [
    "## 🎲 Monte Carlo Pi Estimator"
   ]
  },
  {
   "cell_type": "markdown",
   "id": "cfad7761",
   "metadata": {},
   "source": [
    "Use a simple Monte Carlo method to estimate the value of $\\pi$.\n",
    "\n",
    "🧠 Idea:\n",
    "\n",
    "* Imagine a square with sides of length 2, centered at the origin (so it goes from $−1$ to $1$ in both $x$ and $y$ direction)\n",
    "\n",
    "* Inside it, draw a circle of radius $1$.\n",
    "\n",
    "* Randomly generate a large number of points in the square.\n",
    "\n",
    "* Count how many fall inside the circle.\n",
    "\n",
    "* The ratio of points inside the circle to total points approximates the ratio of the circle's area to the square's area:\n",
    "\n",
    "\\begin{equation}\n",
    "    \\frac{\\text{Points inside the circle}}{\\text{Total number of points}} \\approx \\frac{\\pi r^2}{(2 r)^2} = \\frac{\\pi}{4}\n",
    "\\end{equation}\n",
    "\n",
    "* Multiply that ratio by 4 to estimate pi!\n",
    "\n",
    "\n",
    "✅ Your task:\n",
    "\n",
    "1. Generate $1000$ random points in the square.\n",
    "\n",
    "2. Count how many fall inside the circle (i. e. $x^2 + y^2 < 1$).\n",
    "\n",
    "3. Estimate $\\pi$!\n",
    "\n",
    "4. Try generating different numbers of random points - we expect the estimation to be more accurate the more samples we generate!\n",
    "\n",
    "5. (Optional) Make it yours! You can use different colours for the outline of the circle and the square, and the points that land inside vs outside the circle! You can find the complete list of colours at [matplotlib.org](https://matplotlib.org/stable/gallery/color/named_colors.html \"matplotlib.org\").\n"
   ]
  },
  {
   "cell_type": "code",
   "execution_count": null,
   "id": "50000323",
   "metadata": {},
   "outputs": [],
   "source": []
  }
 ],
 "metadata": {
  "kernelspec": {
   "display_name": "base",
   "language": "python",
   "name": "python3"
  },
  "language_info": {
   "name": "python",
   "version": "3.9.12"
  }
 },
 "nbformat": 4,
 "nbformat_minor": 5
}
