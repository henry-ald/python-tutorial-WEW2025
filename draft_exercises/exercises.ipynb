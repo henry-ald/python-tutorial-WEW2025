{
 "cells": [
  {
   "cell_type": "markdown",
   "id": "32c710f0",
   "metadata": {},
   "source": [
    "## Exercises"
   ]
  },
  {
   "cell_type": "markdown",
   "id": "ab23df71",
   "metadata": {},
   "source": [
    "### Arithmetical Operations\n",
    "\n",
    "Perform the following arithmetic operations in the kernels below:"
   ]
  },
  {
   "cell_type": "markdown",
   "id": "da9e6b28",
   "metadata": {},
   "source": [
    "1. Convert 250 degrees Fahrenheit to Celsius \n",
    "\n",
    "    _(Hint: Use the formula $C = \\frac{5}{9} (F - 32)$)_"
   ]
  },
  {
   "cell_type": "code",
   "execution_count": null,
   "id": "8da60368",
   "metadata": {},
   "outputs": [],
   "source": []
  },
  {
   "cell_type": "markdown",
   "id": "6a2762ee",
   "metadata": {},
   "source": [
    "2. Calculate area of a circle with radius $\\sqrt{64}$.\n",
    "\n",
    "    _(Hint: Formula for the area of a circle is $A = \\pi r^2$)_"
   ]
  },
  {
   "cell_type": "code",
   "execution_count": null,
   "id": "b0422c9e",
   "metadata": {},
   "outputs": [],
   "source": []
  },
  {
   "cell_type": "markdown",
   "id": "c15ccb21",
   "metadata": {},
   "source": [
    "3. Calculate the circumference of a circle with radius $2^8$.\n",
    "\n",
    "    _(Hint: Circumference of a circle is $C = 2 \\pi r$)_"
   ]
  },
  {
   "cell_type": "code",
   "execution_count": null,
   "id": "adee6320",
   "metadata": {},
   "outputs": [],
   "source": []
  },
  {
   "cell_type": "markdown",
   "id": "aa526d3d",
   "metadata": {},
   "source": [
    "### Comparison and Logic Operations\n",
    "\n",
    "Using comparison and logic operators discussed during the workshop, answer the following questions:"
   ]
  },
  {
   "cell_type": "markdown",
   "id": "f9dc494a",
   "metadata": {},
   "source": [
    "1. Is $2^8$ larger, less than, or equal to $8^2$ ?"
   ]
  },
  {
   "cell_type": "code",
   "execution_count": null,
   "id": "1774b785",
   "metadata": {},
   "outputs": [],
   "source": []
  },
  {
   "cell_type": "markdown",
   "id": "47b58185",
   "metadata": {},
   "source": [
    "2. Is $\\sqrt{125}$ larger, less than, or equal to $3^5$ ?"
   ]
  },
  {
   "cell_type": "code",
   "execution_count": null,
   "id": "1325b719",
   "metadata": {},
   "outputs": [],
   "source": []
  },
  {
   "cell_type": "markdown",
   "id": "9c86388e",
   "metadata": {},
   "source": [
    "3. Is $\\frac{3 \\sqrt{2}}{4}$ larger, less than, or equal to $\\frac{4 \\sqrt{9}}{2^2}$ ?"
   ]
  },
  {
   "cell_type": "code",
   "execution_count": null,
   "id": "cecf315f",
   "metadata": {},
   "outputs": [],
   "source": []
  },
  {
   "cell_type": "markdown",
   "id": "415a45dd",
   "metadata": {},
   "source": [
    "### Conditionals and Control Flow"
   ]
  },
  {
   "cell_type": "markdown",
   "id": "30f7cf83",
   "metadata": {},
   "source": [
    "1. $x = 12^3$. Using the kernel below, calculate the number and create an\n",
    "    ```python\n",
    "    if ... :\n",
    "        ...\n",
    "    else:\n",
    "        ...\n",
    "    ```\n",
    "    structure to print \"This is not the right value!\" if the number is below or above the correct outcome."
   ]
  },
  {
   "cell_type": "code",
   "execution_count": null,
   "id": "1785d123",
   "metadata": {},
   "outputs": [],
   "source": []
  },
  {
   "cell_type": "markdown",
   "id": "28e2118e",
   "metadata": {},
   "source": [
    "2. For the list of radii [1.0, 2.3, 5.0, 7.9, 11.13] calculate both area and circumference for each circle.\n",
    "\n",
    "    _(Hint: Look at previous exercises if you need to remind yourself of the formulae!)_"
   ]
  },
  {
   "cell_type": "code",
   "execution_count": null,
   "id": "80c59e1b",
   "metadata": {},
   "outputs": [],
   "source": []
  },
  {
   "cell_type": "markdown",
   "id": "775fe076",
   "metadata": {},
   "source": [
    "3. Look at this set of numbers [-1689, -5, -3.2, -1.01, 0, 0.0003, 2, 3.5, 2000].\n",
    "\n",
    "    Classify them as positive, negative, or zero.\n",
    "    \n",
    "    _(Hint: `if`/`elif`/`else` and `print` statements will be helpful here!)_"
   ]
  },
  {
   "cell_type": "code",
   "execution_count": null,
   "id": "72f0fad1",
   "metadata": {},
   "outputs": [],
   "source": []
  }
 ],
 "metadata": {
  "kernelspec": {
   "display_name": "base",
   "language": "python",
   "name": "python3"
  },
  "language_info": {
   "codemirror_mode": {
    "name": "ipython",
    "version": 3
   },
   "file_extension": ".py",
   "mimetype": "text/x-python",
   "name": "python",
   "nbconvert_exporter": "python",
   "pygments_lexer": "ipython3",
   "version": "3.9.12"
  }
 },
 "nbformat": 4,
 "nbformat_minor": 5
}
