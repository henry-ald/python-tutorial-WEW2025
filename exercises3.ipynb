{
 "cells": [
  {
   "cell_type": "markdown",
   "id": "ffaa8b30",
   "metadata": {},
   "source": [
    "## 🧠 Function Practice – A Variety of Small Scientific Tools"
   ]
  },
  {
   "cell_type": "markdown",
   "id": "e62d6380",
   "metadata": {},
   "source": [
    "### 📏 Orbital Period Calculator\n",
    "\n",
    "Write a function `orbital_period(semi_major_axis)` that calculates the orbital period (in Earth years) using **Kepler’s Third Law**:\n",
    "\n",
    "$$\n",
    "T = \\sqrt{a^3}\n",
    "$$\n",
    "\n",
    "Where `a` is the orbital radius in AU.\n",
    "Test it on Earth (1 AU), Mars (1.52 AU), and Jupiter (5.2 AU)."
   ]
  },
  {
   "cell_type": "code",
   "execution_count": null,
   "id": "96973902",
   "metadata": {},
   "outputs": [],
   "source": []
  },
  {
   "cell_type": "markdown",
   "id": "d9604e3d",
   "metadata": {},
   "source": [
    "### 🔄 Lookup Planet Facts\n",
    "\n",
    "Create a dictionary with simple planet facts (e.g., `\"mars\": {\"moons\": 2, \"radius_km\": 3390}`).\n",
    "\n",
    "Write a function `planet_fact(planet_dict, planet_name, fact)` that returns the requested value or `\"Unknown\"` if the key or planet isn't found.\n",
    "\n",
    "```python\n",
    "planet_fact(planets_dict, \"mars\", \"moons\") → 2\n",
    "planet_fact(planets_dict, \"venus\", \"rings\") → \"Unknown\"\n",
    "```\n"
   ]
  },
  {
   "cell_type": "code",
   "execution_count": null,
   "id": "648ec5c6",
   "metadata": {},
   "outputs": [],
   "source": []
  },
  {
   "cell_type": "markdown",
   "id": "2b5801a3",
   "metadata": {},
   "source": [
    "### 🔢 Index by First Letter\n",
    "\n",
    "Write a function `group_by_letter(names)` that returns a dictionary where each key is a first letter, and each value is a list of names starting with that letter.\n",
    "\n",
    "```python\n",
    "group_by_letter([\"mars\", \"mercury\", \"venus\", \"earth\"])\n",
    "# → {'m': ['mars', 'mercury'], 'v': ['venus'], 'e': ['earth']}\n",
    "```"
   ]
  },
  {
   "cell_type": "code",
   "execution_count": null,
   "id": "0dc4c511",
   "metadata": {},
   "outputs": [],
   "source": []
  },
  {
   "cell_type": "markdown",
   "id": "50b6e0c2",
   "metadata": {},
   "source": [
    "### 🧮 Vector Length Function\n",
    "\n",
    "Write a function `vector_length(vec)` that calculates the Euclidean length of a NumPy vector:\n",
    "\n",
    "$$\n",
    "\\text{length} = \\sqrt{x^2 + y^2 + z^2}\n",
    "$$\n",
    "\n",
    "Bonus: Extend it to work for *any* length-1D array."
   ]
  },
  {
   "cell_type": "code",
   "execution_count": null,
   "id": "06abf327",
   "metadata": {},
   "outputs": [],
   "source": []
  },
  {
   "cell_type": "markdown",
   "id": "7bfe368c",
   "metadata": {},
   "source": [
    "### 🧊 Filter Values in an Array\n",
    "\n",
    "Write a function `filter_above(arr, threshold)` that returns only values from a NumPy array above the threshold.\n",
    "\n",
    "```python\n",
    "filter_above(np.array([1, 5, 7]), 4) → array([5, 7])\n",
    "```\n"
   ]
  },
  {
   "cell_type": "code",
   "execution_count": null,
   "id": "3a49a4ed",
   "metadata": {},
   "outputs": [],
   "source": []
  },
  {
   "cell_type": "markdown",
   "id": "d9b6de99",
   "metadata": {},
   "source": [
    "### 🌌 Compare Moons Visually\n",
    "\n",
    "Create a dictionary with a few planets and their number of moons (e.g., \"Earth\": 1, \"Jupiter\": 92, ...).\n",
    "Write a function `plot_moons(moon_dict)` that:\n",
    "\n",
    "- Extracts keys and values\n",
    "\n",
    "- Uses `matplotlib` to create a bar chart\n",
    "    \n",
    "- You can keep the style basic — focus on just calling `plt.bar()` and `plt.show()`."
   ]
  },
  {
   "cell_type": "code",
   "execution_count": null,
   "id": "84798fe3",
   "metadata": {},
   "outputs": [],
   "source": []
  }
 ],
 "metadata": {
  "kernelspec": {
   "display_name": "base",
   "language": "python",
   "name": "python3"
  },
  "language_info": {
   "name": "python",
   "version": "3.9.12"
  }
 },
 "nbformat": 4,
 "nbformat_minor": 5
}
